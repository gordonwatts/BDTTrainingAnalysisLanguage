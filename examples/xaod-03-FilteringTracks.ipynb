{
 "cells": [
  {
   "cell_type": "markdown",
   "metadata": {},
   "source": [
    "# Filter Tracks in xAOD Events\n",
    "\n",
    "This is a sample script that uses the ad-hoc analysis library to extract jet pt's from certain ATLAS xAOD events.\n",
    "\n",
    "- Run Number\n",
    "- Event Number\n",
    "- Jet Eta\n",
    "- Jet pt\n",
    "- Number of tracks with pt > 1 GeV in the event that are within a DeltaR of 0.2 of the jet axis (in $\\eta$ and $\\phi$).\n",
    "\n",
    "The tracks entry means having to do a filter on a per-event basis: we want to count the number of tracks in each event that have `pt>1` GeV."
   ]
  },
  {
   "cell_type": "markdown",
   "metadata": {},
   "source": [
    "## Setup and Config"
   ]
  },
  {
   "cell_type": "code",
   "execution_count": 1,
   "metadata": {},
   "outputs": [],
   "source": [
    "fname = r\"file://G:/mc16_13TeV/AOD.16300985._000011.pool.root.1\""
   ]
  },
  {
   "cell_type": "code",
   "execution_count": 6,
   "metadata": {},
   "outputs": [
    {
     "name": "stdout",
     "output_type": "stream",
     "text": [
      "Wall time: 4 ms\n"
     ]
    }
   ],
   "source": [
    "%%time\n",
    "import sys\n",
    "sys.path.append('..')\n",
    "from clientlib.DataSets import EventDataSet\n",
    "from cpplib.math_utils import DeltaR"
   ]
  },
  {
   "cell_type": "markdown",
   "metadata": {},
   "source": [
    "## Import the events into a Pandas array.\n",
    "\n",
    "First thing we do is turn a dataset into an implicit stream of events."
   ]
  },
  {
   "cell_type": "code",
   "execution_count": 3,
   "metadata": {},
   "outputs": [
    {
     "name": "stdout",
     "output_type": "stream",
     "text": [
      "Wall time: 0 ns\n"
     ]
    }
   ],
   "source": [
    "%%time\n",
    "f = EventDataSet(fname)\n",
    "events = f.AsATLASEvents()"
   ]
  },
  {
   "cell_type": "markdown",
   "metadata": {},
   "source": [
    "We will get the stream of jets in several steps. We could do this in one step, but it is easier to read.\n",
    "\n",
    "We now also include the `tracks` collection. Note that we apply a `Where` filter to it so that only those tracks that have a large enough pt survive our collection. This means the `event_info` tuple now contains, for each event:\n",
    "\n",
    "- The `EventInfo` object (run number, etc.)\n",
    "- A list of all jets\n",
    "- A list of all tracks with `pt>1` GeV."
   ]
  },
  {
   "cell_type": "code",
   "execution_count": 4,
   "metadata": {},
   "outputs": [
    {
     "name": "stdout",
     "output_type": "stream",
     "text": [
      "Wall time: 0 ns\n"
     ]
    }
   ],
   "source": [
    "%%time\n",
    "event_info = events \\\n",
    "            .Select(\"lambda e: (e.EventInfo('EventInfo'), e.Jets('AntiKt4EMTopoJets'), e.Tracks('InDetTrackParticles').Where(lambda t: t.pt() > 1000.0))\")"
   ]
  },
  {
   "cell_type": "markdown",
   "metadata": {},
   "source": [
    "The `event_info` iterator is a sequence of events - one per event. We want it to be one per jet. We use the `SelectMany` function to change the sequence into one of jets. Note that `Select` is used in the interior - this is because `e1[1]` is an array of the jets in the event - so it is already a sequence."
   ]
  },
  {
   "cell_type": "code",
   "execution_count": 7,
   "metadata": {},
   "outputs": [],
   "source": [
    "jet_info = event_info \\\n",
    "            .SelectMany('lambda e1: e1[1].Select(lambda j: (e1[0],j,e1[2].Where(lambda t: DeltaR(t.eta(), t.phi(), j.eta(), j.phi())< 0.2)))')"
   ]
  },
  {
   "cell_type": "markdown",
   "metadata": {},
   "source": [
    "Now we have a sequnce with an entry for each jet. Now we are ready to generate the tuple of data we want to writ eout. Note the conversion from MeV to GeV for the jet's pt."
   ]
  },
  {
   "cell_type": "code",
   "execution_count": 8,
   "metadata": {},
   "outputs": [],
   "source": [
    "jet_data = jet_info \\\n",
    "            .Select('lambda jinfo: (jinfo[0].runNumber(), jinfo[0].eventNumber(), jinfo[1].pt()/1000.0, jinfo[1].eta(), jinfo[2].Count())')"
   ]
  },
  {
   "cell_type": "markdown",
   "metadata": {},
   "source": [
    "Finally, we want to keep only jets with a `pt` of at least 40 GeV."
   ]
  },
  {
   "cell_type": "code",
   "execution_count": 9,
   "metadata": {},
   "outputs": [],
   "source": [
    "jet_filtered = jet_data \\\n",
    "                .Where('lambda jinfo1: jinfo1[2] > 40.0')"
   ]
  },
  {
   "cell_type": "markdown",
   "metadata": {},
   "source": [
    "And finally turn it into a pandas data frame. Each row has the information associated with a single jet.\n",
    "\n",
    "At this point no execution happens - a \"future\" is now setup with the pandas dataframe."
   ]
  },
  {
   "cell_type": "code",
   "execution_count": 10,
   "metadata": {},
   "outputs": [
    {
     "name": "stdout",
     "output_type": "stream",
     "text": [
      "Wall time: 0 ns\n"
     ]
    }
   ],
   "source": [
    "%%time\n",
    "training_df = jet_filtered.AsPandasDF(columns=['Run', 'Event', 'JetPt', 'JetEta', 'nTracks'])"
   ]
  },
  {
   "cell_type": "markdown",
   "metadata": {},
   "source": [
    "Finally, we turn it into something real. The following steps occur:\n",
    "\n",
    "1. Some C++ code is written to access, read the xAOD jet's, create a ttree, and write it out.\n",
    "1. A docker container with the ATLAS envrionment is started. The code and the data file location are mapped into it.\n",
    "1. The code is compiled, and then run.\n",
    "1. The output ROOT file is loaded with uproot and a DF is created.\n",
    "1. All that temporary code and data is removed.\n",
    "\n",
    "There is a fair amount of log file information that appears in the notebook engine window. At the moement that is not correctly redirected here - so you can see evidence of it running there."
   ]
  },
  {
   "cell_type": "code",
   "execution_count": 11,
   "metadata": {},
   "outputs": [
    {
     "name": "stdout",
     "output_type": "stream",
     "text": [
      "Wall time: 38.6 s\n"
     ]
    }
   ],
   "source": [
    "%%time\n",
    "df = training_df.value()"
   ]
  },
  {
   "cell_type": "markdown",
   "metadata": {},
   "source": [
    "## The Dataframe\n",
    "\n",
    "Now we can play with the dataframe as we wish."
   ]
  },
  {
   "cell_type": "code",
   "execution_count": 12,
   "metadata": {},
   "outputs": [
    {
     "data": {
      "text/html": [
       "<div>\n",
       "<style scoped>\n",
       "    .dataframe tbody tr th:only-of-type {\n",
       "        vertical-align: middle;\n",
       "    }\n",
       "\n",
       "    .dataframe tbody tr th {\n",
       "        vertical-align: top;\n",
       "    }\n",
       "\n",
       "    .dataframe thead th {\n",
       "        text-align: right;\n",
       "    }\n",
       "</style>\n",
       "<table border=\"1\" class=\"dataframe\">\n",
       "  <thead>\n",
       "    <tr style=\"text-align: right;\">\n",
       "      <th></th>\n",
       "      <th>Run</th>\n",
       "      <th>Event</th>\n",
       "      <th>JetPt</th>\n",
       "      <th>JetEta</th>\n",
       "      <th>nTracks</th>\n",
       "    </tr>\n",
       "  </thead>\n",
       "  <tbody>\n",
       "    <tr>\n",
       "      <th>0</th>\n",
       "      <td>300000.0</td>\n",
       "      <td>16000310.0</td>\n",
       "      <td>257.316437</td>\n",
       "      <td>1.438426</td>\n",
       "      <td>18.0</td>\n",
       "    </tr>\n",
       "    <tr>\n",
       "      <th>1</th>\n",
       "      <td>300000.0</td>\n",
       "      <td>16000310.0</td>\n",
       "      <td>253.132324</td>\n",
       "      <td>0.656501</td>\n",
       "      <td>11.0</td>\n",
       "    </tr>\n",
       "    <tr>\n",
       "      <th>2</th>\n",
       "      <td>300000.0</td>\n",
       "      <td>16000310.0</td>\n",
       "      <td>47.169453</td>\n",
       "      <td>-2.648296</td>\n",
       "      <td>1.0</td>\n",
       "    </tr>\n",
       "    <tr>\n",
       "      <th>3</th>\n",
       "      <td>300000.0</td>\n",
       "      <td>16000256.0</td>\n",
       "      <td>386.493408</td>\n",
       "      <td>2.073497</td>\n",
       "      <td>7.0</td>\n",
       "    </tr>\n",
       "    <tr>\n",
       "      <th>4</th>\n",
       "      <td>300000.0</td>\n",
       "      <td>16000256.0</td>\n",
       "      <td>339.724030</td>\n",
       "      <td>-0.082004</td>\n",
       "      <td>6.0</td>\n",
       "    </tr>\n",
       "    <tr>\n",
       "      <th>5</th>\n",
       "      <td>300000.0</td>\n",
       "      <td>16002559.0</td>\n",
       "      <td>205.481918</td>\n",
       "      <td>-1.160439</td>\n",
       "      <td>9.0</td>\n",
       "    </tr>\n",
       "    <tr>\n",
       "      <th>6</th>\n",
       "      <td>300000.0</td>\n",
       "      <td>16002559.0</td>\n",
       "      <td>145.919022</td>\n",
       "      <td>1.104241</td>\n",
       "      <td>7.0</td>\n",
       "    </tr>\n",
       "    <tr>\n",
       "      <th>7</th>\n",
       "      <td>300000.0</td>\n",
       "      <td>16002811.0</td>\n",
       "      <td>367.607086</td>\n",
       "      <td>1.182012</td>\n",
       "      <td>25.0</td>\n",
       "    </tr>\n",
       "    <tr>\n",
       "      <th>8</th>\n",
       "      <td>300000.0</td>\n",
       "      <td>16002811.0</td>\n",
       "      <td>284.545380</td>\n",
       "      <td>-0.467615</td>\n",
       "      <td>11.0</td>\n",
       "    </tr>\n",
       "    <tr>\n",
       "      <th>9</th>\n",
       "      <td>300000.0</td>\n",
       "      <td>16002811.0</td>\n",
       "      <td>57.873211</td>\n",
       "      <td>-1.149017</td>\n",
       "      <td>8.0</td>\n",
       "    </tr>\n",
       "    <tr>\n",
       "      <th>10</th>\n",
       "      <td>300000.0</td>\n",
       "      <td>16003954.0</td>\n",
       "      <td>372.567780</td>\n",
       "      <td>1.336851</td>\n",
       "      <td>19.0</td>\n",
       "    </tr>\n",
       "    <tr>\n",
       "      <th>11</th>\n",
       "      <td>300000.0</td>\n",
       "      <td>16003954.0</td>\n",
       "      <td>306.437347</td>\n",
       "      <td>1.330709</td>\n",
       "      <td>13.0</td>\n",
       "    </tr>\n",
       "    <tr>\n",
       "      <th>12</th>\n",
       "      <td>300000.0</td>\n",
       "      <td>16003954.0</td>\n",
       "      <td>198.144958</td>\n",
       "      <td>-0.228877</td>\n",
       "      <td>11.0</td>\n",
       "    </tr>\n",
       "    <tr>\n",
       "      <th>13</th>\n",
       "      <td>300000.0</td>\n",
       "      <td>16003954.0</td>\n",
       "      <td>186.099472</td>\n",
       "      <td>1.200708</td>\n",
       "      <td>10.0</td>\n",
       "    </tr>\n",
       "    <tr>\n",
       "      <th>14</th>\n",
       "      <td>300000.0</td>\n",
       "      <td>16003954.0</td>\n",
       "      <td>53.802670</td>\n",
       "      <td>-0.032205</td>\n",
       "      <td>3.0</td>\n",
       "    </tr>\n",
       "    <tr>\n",
       "      <th>15</th>\n",
       "      <td>300000.0</td>\n",
       "      <td>16001556.0</td>\n",
       "      <td>182.941025</td>\n",
       "      <td>-1.575269</td>\n",
       "      <td>12.0</td>\n",
       "    </tr>\n",
       "    <tr>\n",
       "      <th>16</th>\n",
       "      <td>300000.0</td>\n",
       "      <td>16001556.0</td>\n",
       "      <td>171.530762</td>\n",
       "      <td>1.298115</td>\n",
       "      <td>23.0</td>\n",
       "    </tr>\n",
       "    <tr>\n",
       "      <th>17</th>\n",
       "      <td>300000.0</td>\n",
       "      <td>16001556.0</td>\n",
       "      <td>80.474030</td>\n",
       "      <td>-1.882994</td>\n",
       "      <td>7.0</td>\n",
       "    </tr>\n",
       "    <tr>\n",
       "      <th>18</th>\n",
       "      <td>300000.0</td>\n",
       "      <td>16001556.0</td>\n",
       "      <td>63.707455</td>\n",
       "      <td>-1.166441</td>\n",
       "      <td>5.0</td>\n",
       "    </tr>\n",
       "    <tr>\n",
       "      <th>19</th>\n",
       "      <td>300000.0</td>\n",
       "      <td>16001556.0</td>\n",
       "      <td>42.823189</td>\n",
       "      <td>-1.078851</td>\n",
       "      <td>7.0</td>\n",
       "    </tr>\n",
       "    <tr>\n",
       "      <th>20</th>\n",
       "      <td>300000.0</td>\n",
       "      <td>16001549.0</td>\n",
       "      <td>257.214081</td>\n",
       "      <td>-1.456010</td>\n",
       "      <td>23.0</td>\n",
       "    </tr>\n",
       "    <tr>\n",
       "      <th>21</th>\n",
       "      <td>300000.0</td>\n",
       "      <td>16001549.0</td>\n",
       "      <td>229.372360</td>\n",
       "      <td>0.067230</td>\n",
       "      <td>12.0</td>\n",
       "    </tr>\n",
       "    <tr>\n",
       "      <th>22</th>\n",
       "      <td>300000.0</td>\n",
       "      <td>16001549.0</td>\n",
       "      <td>40.085056</td>\n",
       "      <td>0.413511</td>\n",
       "      <td>2.0</td>\n",
       "    </tr>\n",
       "    <tr>\n",
       "      <th>23</th>\n",
       "      <td>300000.0</td>\n",
       "      <td>16001687.0</td>\n",
       "      <td>370.454865</td>\n",
       "      <td>1.102236</td>\n",
       "      <td>10.0</td>\n",
       "    </tr>\n",
       "    <tr>\n",
       "      <th>24</th>\n",
       "      <td>300000.0</td>\n",
       "      <td>16001687.0</td>\n",
       "      <td>140.388702</td>\n",
       "      <td>0.507384</td>\n",
       "      <td>17.0</td>\n",
       "    </tr>\n",
       "    <tr>\n",
       "      <th>25</th>\n",
       "      <td>300000.0</td>\n",
       "      <td>16001687.0</td>\n",
       "      <td>107.440544</td>\n",
       "      <td>-1.166521</td>\n",
       "      <td>11.0</td>\n",
       "    </tr>\n",
       "    <tr>\n",
       "      <th>26</th>\n",
       "      <td>300000.0</td>\n",
       "      <td>16001687.0</td>\n",
       "      <td>69.786514</td>\n",
       "      <td>-0.284959</td>\n",
       "      <td>8.0</td>\n",
       "    </tr>\n",
       "    <tr>\n",
       "      <th>27</th>\n",
       "      <td>300000.0</td>\n",
       "      <td>16003517.0</td>\n",
       "      <td>187.186707</td>\n",
       "      <td>-0.790497</td>\n",
       "      <td>16.0</td>\n",
       "    </tr>\n",
       "    <tr>\n",
       "      <th>28</th>\n",
       "      <td>300000.0</td>\n",
       "      <td>16003517.0</td>\n",
       "      <td>121.989494</td>\n",
       "      <td>-2.486530</td>\n",
       "      <td>10.0</td>\n",
       "    </tr>\n",
       "    <tr>\n",
       "      <th>29</th>\n",
       "      <td>300000.0</td>\n",
       "      <td>16003517.0</td>\n",
       "      <td>58.629288</td>\n",
       "      <td>-4.380341</td>\n",
       "      <td>0.0</td>\n",
       "    </tr>\n",
       "    <tr>\n",
       "      <th>...</th>\n",
       "      <td>...</td>\n",
       "      <td>...</td>\n",
       "      <td>...</td>\n",
       "      <td>...</td>\n",
       "      <td>...</td>\n",
       "    </tr>\n",
       "    <tr>\n",
       "      <th>6720</th>\n",
       "      <td>300000.0</td>\n",
       "      <td>16002977.0</td>\n",
       "      <td>214.613785</td>\n",
       "      <td>0.820583</td>\n",
       "      <td>17.0</td>\n",
       "    </tr>\n",
       "    <tr>\n",
       "      <th>6721</th>\n",
       "      <td>300000.0</td>\n",
       "      <td>16002977.0</td>\n",
       "      <td>155.160080</td>\n",
       "      <td>0.951843</td>\n",
       "      <td>17.0</td>\n",
       "    </tr>\n",
       "    <tr>\n",
       "      <th>6722</th>\n",
       "      <td>300000.0</td>\n",
       "      <td>16002977.0</td>\n",
       "      <td>59.844471</td>\n",
       "      <td>1.612250</td>\n",
       "      <td>8.0</td>\n",
       "    </tr>\n",
       "    <tr>\n",
       "      <th>6723</th>\n",
       "      <td>300000.0</td>\n",
       "      <td>16002977.0</td>\n",
       "      <td>53.753105</td>\n",
       "      <td>0.812974</td>\n",
       "      <td>4.0</td>\n",
       "    </tr>\n",
       "    <tr>\n",
       "      <th>6724</th>\n",
       "      <td>300000.0</td>\n",
       "      <td>16002977.0</td>\n",
       "      <td>42.033871</td>\n",
       "      <td>0.256970</td>\n",
       "      <td>5.0</td>\n",
       "    </tr>\n",
       "    <tr>\n",
       "      <th>6725</th>\n",
       "      <td>300000.0</td>\n",
       "      <td>16002912.0</td>\n",
       "      <td>300.313232</td>\n",
       "      <td>0.256293</td>\n",
       "      <td>8.0</td>\n",
       "    </tr>\n",
       "    <tr>\n",
       "      <th>6726</th>\n",
       "      <td>300000.0</td>\n",
       "      <td>16002912.0</td>\n",
       "      <td>204.324341</td>\n",
       "      <td>-0.675651</td>\n",
       "      <td>5.0</td>\n",
       "    </tr>\n",
       "    <tr>\n",
       "      <th>6727</th>\n",
       "      <td>300000.0</td>\n",
       "      <td>16002912.0</td>\n",
       "      <td>116.609604</td>\n",
       "      <td>-0.321138</td>\n",
       "      <td>3.0</td>\n",
       "    </tr>\n",
       "    <tr>\n",
       "      <th>6728</th>\n",
       "      <td>300000.0</td>\n",
       "      <td>16002912.0</td>\n",
       "      <td>41.995880</td>\n",
       "      <td>-0.993203</td>\n",
       "      <td>7.0</td>\n",
       "    </tr>\n",
       "    <tr>\n",
       "      <th>6729</th>\n",
       "      <td>300000.0</td>\n",
       "      <td>16003929.0</td>\n",
       "      <td>220.576096</td>\n",
       "      <td>1.625919</td>\n",
       "      <td>4.0</td>\n",
       "    </tr>\n",
       "    <tr>\n",
       "      <th>6730</th>\n",
       "      <td>300000.0</td>\n",
       "      <td>16003929.0</td>\n",
       "      <td>142.215195</td>\n",
       "      <td>0.225492</td>\n",
       "      <td>9.0</td>\n",
       "    </tr>\n",
       "    <tr>\n",
       "      <th>6731</th>\n",
       "      <td>300000.0</td>\n",
       "      <td>16003929.0</td>\n",
       "      <td>73.718651</td>\n",
       "      <td>-0.240410</td>\n",
       "      <td>5.0</td>\n",
       "    </tr>\n",
       "    <tr>\n",
       "      <th>6732</th>\n",
       "      <td>300000.0</td>\n",
       "      <td>16002591.0</td>\n",
       "      <td>289.948212</td>\n",
       "      <td>2.257163</td>\n",
       "      <td>28.0</td>\n",
       "    </tr>\n",
       "    <tr>\n",
       "      <th>6733</th>\n",
       "      <td>300000.0</td>\n",
       "      <td>16002591.0</td>\n",
       "      <td>227.121063</td>\n",
       "      <td>-2.808100</td>\n",
       "      <td>0.0</td>\n",
       "    </tr>\n",
       "    <tr>\n",
       "      <th>6734</th>\n",
       "      <td>300000.0</td>\n",
       "      <td>16002591.0</td>\n",
       "      <td>163.573563</td>\n",
       "      <td>-2.206731</td>\n",
       "      <td>8.0</td>\n",
       "    </tr>\n",
       "    <tr>\n",
       "      <th>6735</th>\n",
       "      <td>300000.0</td>\n",
       "      <td>16003975.0</td>\n",
       "      <td>416.726410</td>\n",
       "      <td>-0.968282</td>\n",
       "      <td>10.0</td>\n",
       "    </tr>\n",
       "    <tr>\n",
       "      <th>6736</th>\n",
       "      <td>300000.0</td>\n",
       "      <td>16003975.0</td>\n",
       "      <td>380.712036</td>\n",
       "      <td>1.569052</td>\n",
       "      <td>5.0</td>\n",
       "    </tr>\n",
       "    <tr>\n",
       "      <th>6737</th>\n",
       "      <td>300000.0</td>\n",
       "      <td>16003975.0</td>\n",
       "      <td>73.268478</td>\n",
       "      <td>-2.716906</td>\n",
       "      <td>0.0</td>\n",
       "    </tr>\n",
       "    <tr>\n",
       "      <th>6738</th>\n",
       "      <td>300000.0</td>\n",
       "      <td>16003975.0</td>\n",
       "      <td>47.465031</td>\n",
       "      <td>-3.643815</td>\n",
       "      <td>0.0</td>\n",
       "    </tr>\n",
       "    <tr>\n",
       "      <th>6739</th>\n",
       "      <td>300000.0</td>\n",
       "      <td>16003589.0</td>\n",
       "      <td>270.029694</td>\n",
       "      <td>-0.828755</td>\n",
       "      <td>7.0</td>\n",
       "    </tr>\n",
       "    <tr>\n",
       "      <th>6740</th>\n",
       "      <td>300000.0</td>\n",
       "      <td>16003589.0</td>\n",
       "      <td>235.058060</td>\n",
       "      <td>-1.337295</td>\n",
       "      <td>12.0</td>\n",
       "    </tr>\n",
       "    <tr>\n",
       "      <th>6741</th>\n",
       "      <td>300000.0</td>\n",
       "      <td>16000303.0</td>\n",
       "      <td>295.982086</td>\n",
       "      <td>0.041004</td>\n",
       "      <td>9.0</td>\n",
       "    </tr>\n",
       "    <tr>\n",
       "      <th>6742</th>\n",
       "      <td>300000.0</td>\n",
       "      <td>16000303.0</td>\n",
       "      <td>239.013138</td>\n",
       "      <td>0.506279</td>\n",
       "      <td>10.0</td>\n",
       "    </tr>\n",
       "    <tr>\n",
       "      <th>6743</th>\n",
       "      <td>300000.0</td>\n",
       "      <td>16000303.0</td>\n",
       "      <td>137.131561</td>\n",
       "      <td>0.275578</td>\n",
       "      <td>19.0</td>\n",
       "    </tr>\n",
       "    <tr>\n",
       "      <th>6744</th>\n",
       "      <td>300000.0</td>\n",
       "      <td>16000303.0</td>\n",
       "      <td>58.332172</td>\n",
       "      <td>-2.539562</td>\n",
       "      <td>3.0</td>\n",
       "    </tr>\n",
       "    <tr>\n",
       "      <th>6745</th>\n",
       "      <td>300000.0</td>\n",
       "      <td>16000303.0</td>\n",
       "      <td>42.648205</td>\n",
       "      <td>0.165811</td>\n",
       "      <td>6.0</td>\n",
       "    </tr>\n",
       "    <tr>\n",
       "      <th>6746</th>\n",
       "      <td>300000.0</td>\n",
       "      <td>16002703.0</td>\n",
       "      <td>373.230865</td>\n",
       "      <td>1.002840</td>\n",
       "      <td>11.0</td>\n",
       "    </tr>\n",
       "    <tr>\n",
       "      <th>6747</th>\n",
       "      <td>300000.0</td>\n",
       "      <td>16002703.0</td>\n",
       "      <td>197.725815</td>\n",
       "      <td>-0.912701</td>\n",
       "      <td>9.0</td>\n",
       "    </tr>\n",
       "    <tr>\n",
       "      <th>6748</th>\n",
       "      <td>300000.0</td>\n",
       "      <td>16002703.0</td>\n",
       "      <td>176.597290</td>\n",
       "      <td>-0.129056</td>\n",
       "      <td>9.0</td>\n",
       "    </tr>\n",
       "    <tr>\n",
       "      <th>6749</th>\n",
       "      <td>300000.0</td>\n",
       "      <td>16002703.0</td>\n",
       "      <td>153.065796</td>\n",
       "      <td>1.947950</td>\n",
       "      <td>20.0</td>\n",
       "    </tr>\n",
       "  </tbody>\n",
       "</table>\n",
       "<p>6750 rows × 5 columns</p>\n",
       "</div>"
      ],
      "text/plain": [
       "           Run       Event       JetPt    JetEta  nTracks\n",
       "0     300000.0  16000310.0  257.316437  1.438426     18.0\n",
       "1     300000.0  16000310.0  253.132324  0.656501     11.0\n",
       "2     300000.0  16000310.0   47.169453 -2.648296      1.0\n",
       "3     300000.0  16000256.0  386.493408  2.073497      7.0\n",
       "4     300000.0  16000256.0  339.724030 -0.082004      6.0\n",
       "5     300000.0  16002559.0  205.481918 -1.160439      9.0\n",
       "6     300000.0  16002559.0  145.919022  1.104241      7.0\n",
       "7     300000.0  16002811.0  367.607086  1.182012     25.0\n",
       "8     300000.0  16002811.0  284.545380 -0.467615     11.0\n",
       "9     300000.0  16002811.0   57.873211 -1.149017      8.0\n",
       "10    300000.0  16003954.0  372.567780  1.336851     19.0\n",
       "11    300000.0  16003954.0  306.437347  1.330709     13.0\n",
       "12    300000.0  16003954.0  198.144958 -0.228877     11.0\n",
       "13    300000.0  16003954.0  186.099472  1.200708     10.0\n",
       "14    300000.0  16003954.0   53.802670 -0.032205      3.0\n",
       "15    300000.0  16001556.0  182.941025 -1.575269     12.0\n",
       "16    300000.0  16001556.0  171.530762  1.298115     23.0\n",
       "17    300000.0  16001556.0   80.474030 -1.882994      7.0\n",
       "18    300000.0  16001556.0   63.707455 -1.166441      5.0\n",
       "19    300000.0  16001556.0   42.823189 -1.078851      7.0\n",
       "20    300000.0  16001549.0  257.214081 -1.456010     23.0\n",
       "21    300000.0  16001549.0  229.372360  0.067230     12.0\n",
       "22    300000.0  16001549.0   40.085056  0.413511      2.0\n",
       "23    300000.0  16001687.0  370.454865  1.102236     10.0\n",
       "24    300000.0  16001687.0  140.388702  0.507384     17.0\n",
       "25    300000.0  16001687.0  107.440544 -1.166521     11.0\n",
       "26    300000.0  16001687.0   69.786514 -0.284959      8.0\n",
       "27    300000.0  16003517.0  187.186707 -0.790497     16.0\n",
       "28    300000.0  16003517.0  121.989494 -2.486530     10.0\n",
       "29    300000.0  16003517.0   58.629288 -4.380341      0.0\n",
       "...        ...         ...         ...       ...      ...\n",
       "6720  300000.0  16002977.0  214.613785  0.820583     17.0\n",
       "6721  300000.0  16002977.0  155.160080  0.951843     17.0\n",
       "6722  300000.0  16002977.0   59.844471  1.612250      8.0\n",
       "6723  300000.0  16002977.0   53.753105  0.812974      4.0\n",
       "6724  300000.0  16002977.0   42.033871  0.256970      5.0\n",
       "6725  300000.0  16002912.0  300.313232  0.256293      8.0\n",
       "6726  300000.0  16002912.0  204.324341 -0.675651      5.0\n",
       "6727  300000.0  16002912.0  116.609604 -0.321138      3.0\n",
       "6728  300000.0  16002912.0   41.995880 -0.993203      7.0\n",
       "6729  300000.0  16003929.0  220.576096  1.625919      4.0\n",
       "6730  300000.0  16003929.0  142.215195  0.225492      9.0\n",
       "6731  300000.0  16003929.0   73.718651 -0.240410      5.0\n",
       "6732  300000.0  16002591.0  289.948212  2.257163     28.0\n",
       "6733  300000.0  16002591.0  227.121063 -2.808100      0.0\n",
       "6734  300000.0  16002591.0  163.573563 -2.206731      8.0\n",
       "6735  300000.0  16003975.0  416.726410 -0.968282     10.0\n",
       "6736  300000.0  16003975.0  380.712036  1.569052      5.0\n",
       "6737  300000.0  16003975.0   73.268478 -2.716906      0.0\n",
       "6738  300000.0  16003975.0   47.465031 -3.643815      0.0\n",
       "6739  300000.0  16003589.0  270.029694 -0.828755      7.0\n",
       "6740  300000.0  16003589.0  235.058060 -1.337295     12.0\n",
       "6741  300000.0  16000303.0  295.982086  0.041004      9.0\n",
       "6742  300000.0  16000303.0  239.013138  0.506279     10.0\n",
       "6743  300000.0  16000303.0  137.131561  0.275578     19.0\n",
       "6744  300000.0  16000303.0   58.332172 -2.539562      3.0\n",
       "6745  300000.0  16000303.0   42.648205  0.165811      6.0\n",
       "6746  300000.0  16002703.0  373.230865  1.002840     11.0\n",
       "6747  300000.0  16002703.0  197.725815 -0.912701      9.0\n",
       "6748  300000.0  16002703.0  176.597290 -0.129056      9.0\n",
       "6749  300000.0  16002703.0  153.065796  1.947950     20.0\n",
       "\n",
       "[6750 rows x 5 columns]"
      ]
     },
     "execution_count": 12,
     "metadata": {},
     "output_type": "execute_result"
    }
   ],
   "source": [
    "df"
   ]
  },
  {
   "cell_type": "code",
   "execution_count": 13,
   "metadata": {},
   "outputs": [
    {
     "name": "stdout",
     "output_type": "stream",
     "text": [
      "Wall time: 932 ms\n"
     ]
    }
   ],
   "source": [
    "%%time\n",
    "import matplotlib.pyplot as plt"
   ]
  },
  {
   "cell_type": "code",
   "execution_count": 14,
   "metadata": {},
   "outputs": [
    {
     "data": {
      "image/png": "[encoded data removed]",
      "text/plain": [
       "<Figure size 432x288 with 1 Axes>"
      ]
     },
     "metadata": {
      "needs_background": "light"
     },
     "output_type": "display_data"
    }
   ],
   "source": [
    "_ = plt.hist(df.JetPt, bins=100)\n",
    "_ = plt.xlabel(\"Jet $p_T$ [GeV]\")"
   ]
  },
  {
   "cell_type": "markdown",
   "metadata": {},
   "source": [
    "Note the cut off at 40 GeV on the low end."
   ]
  },
  {
   "cell_type": "code",
   "execution_count": 16,
   "metadata": {},
   "outputs": [
    {
     "name": "stdout",
     "output_type": "stream",
     "text": [
      "Wall time: 48 ms\n"
     ]
    },
    {
     "data": {
      "image/png": "[encoded data removed]",
      "text/plain": [
       "<Figure size 432x288 with 1 Axes>"
      ]
     },
     "metadata": {
      "needs_background": "light"
     },
     "output_type": "display_data"
    }
   ],
   "source": [
    "%%time\n",
    "_ = plt.scatter(df.JetPt, df.JetEta)"
   ]
  },
  {
   "cell_type": "markdown",
   "metadata": {},
   "source": [
    "As expected we can see the higher pt jets tend to be more central\n",
    "\n",
    "We can also look at the number of tracks as a function of jet $p_T$."
   ]
  },
  {
   "cell_type": "code",
   "execution_count": 20,
   "metadata": {},
   "outputs": [
    {
     "name": "stdout",
     "output_type": "stream",
     "text": [
      "Wall time: 43 ms\n"
     ]
    },
    {
     "data": {
      "image/png": "[encoded data removed]",
      "text/plain": [
       "<Figure size 432x288 with 1 Axes>"
      ]
     },
     "metadata": {
      "needs_background": "light"
     },
     "output_type": "display_data"
    }
   ],
   "source": [
    "%%time\n",
    "_ = plt.scatter(df.JetPt, df.nTracks)\n",
    "_ = plt.xlabel('Jet $p_T$ [GeV]')\n",
    "_ = plt.ylabel('nTracks')"
   ]
  },
  {
   "cell_type": "markdown",
   "metadata": {},
   "source": [
    "## Limitations\n",
    "\n",
    "This is demo code. There are a number of limitations:\n",
    "\n",
    "- Only Jets, Tracks, and EventInfo is understood (easy to add new C++ collections or objects). You can alter the name of the collection you want to access.\n",
    "- Basic operations are possible, like jet.pt()/1000.0. But no effor had been made to have a complete set of operations yet.\n",
    "- Only a single query at a time is possible. However you can create multiple columns in the dataframe (with jet pt and eta, for example).\n",
    "- Obviously, tuples quickly become unweildy. Named tuples would be the obvious thing to use - and there is no techincal reason not to use them. Eventually."
   ]
  },
  {
   "cell_type": "code",
   "execution_count": null,
   "metadata": {},
   "outputs": [],
   "source": []
  }
 ],
 "metadata": {
  "kernelspec": {
   "display_name": "Python 3",
   "language": "python",
   "name": "python3"
  },
  "language_info": {
   "codemirror_mode": {
    "name": "ipython",
    "version": 3
   },
   "file_extension": ".py",
   "mimetype": "text/x-python",
   "name": "python",
   "nbconvert_exporter": "python",
   "pygments_lexer": "ipython3",
   "version": "3.7.1"
  }
 },
 "nbformat": 4,
 "nbformat_minor": 2
}
