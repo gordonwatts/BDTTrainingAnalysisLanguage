{
 "cells": [
  {
   "cell_type": "markdown",
   "metadata": {},
   "source": [
    "# When you need an awkward array\n",
    "\n",
    "This is a sample script that uses the ad-hoc analysis library to events from an xAOD.\n",
    "\n",
    "- Run Number\n",
    "- Event Number\n",
    "- Jet Eta's for the event\n",
    "- Jet pt's for the event\n",
    "- All tracks.\n",
    "\n",
    "The jets must have $p_T > 40$ GeV, and the tracks must have $p_T > 1$ GeV.\n",
    "\n",
    "In particular this means that the different columns have different lengths. A `pandas.DataFrame` is not suitable as a return type. Instead, we will use an `awkward` array."
   ]
  },
  {
   "cell_type": "markdown",
   "metadata": {},
   "source": [
    "## Setup and Config"
   ]
  },
  {
   "cell_type": "code",
   "execution_count": 1,
   "metadata": {},
   "outputs": [],
   "source": [
    "fname = r\"file://G:/mc16_13TeV/AOD.16300985._000011.pool.root.1\""
   ]
  },
  {
   "cell_type": "code",
   "execution_count": 2,
   "metadata": {},
   "outputs": [
    {
     "name": "stdout",
     "output_type": "stream",
     "text": [
      "Wall time: 706 ms\n"
     ]
    }
   ],
   "source": [
    "%%time\n",
    "import sys\n",
    "sys.path.append('..')\n",
    "from clientlib.DataSets import EventDataSet\n",
    "from cpplib.math_utils import DeltaR"
   ]
  },
  {
   "cell_type": "markdown",
   "metadata": {},
   "source": [
    "## Import the events into a Pandas array.\n",
    "\n",
    "First thing we do is turn a dataset into an implicit stream of events."
   ]
  },
  {
   "cell_type": "code",
   "execution_count": 3,
   "metadata": {},
   "outputs": [
    {
     "name": "stdout",
     "output_type": "stream",
     "text": [
      "Wall time: 0 ns\n"
     ]
    }
   ],
   "source": [
    "%%time\n",
    "f = EventDataSet(fname)\n",
    "events = f.AsATLASEvents()"
   ]
  },
  {
   "cell_type": "markdown",
   "metadata": {},
   "source": [
    "We will get the stream of jets in several steps. We could do this in one step, but it is easier to read.\n",
    "\n",
    "We now also include the `tracks` collection. Note that we apply a `Where` filter to it so that only those tracks that have a large enough pt survive our collection. This means the `event_info` tuple now contains, for each event:\n",
    "\n",
    "- The `EventInfo` object (run number, etc.)\n",
    "- A list of all jets wiht $p_T > 40$ GeV\n",
    "- A list of all tracks with $p_T > 1$ GeV."
   ]
  },
  {
   "cell_type": "code",
   "execution_count": 4,
   "metadata": {},
   "outputs": [
    {
     "name": "stdout",
     "output_type": "stream",
     "text": [
      "Wall time: 0 ns\n"
     ]
    }
   ],
   "source": [
    "%%time\n",
    "event_info = events \\\n",
    "            .Select(\"lambda e: (e.EventInfo('EventInfo'), e.Jets('AntiKt4EMTopoJets').Where(lambda j: j.pt()/1000.0 > 40.0), e.Tracks('InDetTrackParticles').Where(lambda t: t.pt() > 1000.0))\")"
   ]
  },
  {
   "cell_type": "markdown",
   "metadata": {},
   "source": [
    "The `event_info` iterator is a sequence of events - one per event. Next we define the columns we want to see in our awkward array."
   ]
  },
  {
   "cell_type": "code",
   "execution_count": 5,
   "metadata": {},
   "outputs": [],
   "source": [
    "event_data = event_info \\\n",
    "            .Select('lambda j1: (j1[0].runNumber(), j1[0].eventNumber(), j1[1].Select(lambda j2: j2.pt()/1000.0), j1[1].Select(lambda j3: j3.eta()), j1[2].Select(lambda t2: t2.pt()/1000.0))')"
   ]
  },
  {
   "cell_type": "markdown",
   "metadata": {},
   "source": [
    "And finally turn it into a awkward array. Each row has information associated with a single event.\n",
    "\n",
    "At this point no execution happens - a \"future\" is now setup which will return the awkward array when evaluated.\n",
    "\n",
    "Note we can return several datatypes that might be suitable:\n",
    "\n",
    "- A Pandas DataFrame (this won't work for this example as each column is not the same length)\n",
    "- An awkward array\n",
    "- A ROOT file with a TTree. A tuple is returned in this case with the filename and the name of the tree in the file - the user may open it as they wish."
   ]
  },
  {
   "cell_type": "code",
   "execution_count": 6,
   "metadata": {},
   "outputs": [
    {
     "name": "stdout",
     "output_type": "stream",
     "text": [
      "Wall time: 0 ns\n"
     ]
    }
   ],
   "source": [
    "%%time\n",
    "training_df = event_data.AsAwkwardArray(columns=['Run', 'Event', 'JetPt', 'JetEta', 'TrackPt'])"
   ]
  },
  {
   "cell_type": "markdown",
   "metadata": {},
   "source": [
    "Finally, we turn it into something real. The following steps occur:\n",
    "\n",
    "1. Some C++ code is written to access, read the xAOD jet's, create a ttree, and write it out.\n",
    "1. A docker container with the ATLAS envrionment is started. The code and the data file location are mapped into it.\n",
    "1. The code is compiled, and then run.\n",
    "1. The output ROOT file is loaded with uproot and a DF is created.\n",
    "1. All that temporary code and data is removed.\n",
    "\n",
    "There is a fair amount of log file information that appears in the notebook engine window. At the moement that is not correctly redirected here - so you can see evidence of it running there."
   ]
  },
  {
   "cell_type": "code",
   "execution_count": 7,
   "metadata": {},
   "outputs": [
    {
     "name": "stdout",
     "output_type": "stream",
     "text": [
      "Process result is  0\n",
      "Wall time: 31.6 s\n"
     ]
    }
   ],
   "source": [
    "%%time\n",
    "df = training_df.value()"
   ]
  },
  {
   "cell_type": "markdown",
   "metadata": {},
   "source": [
    "## The Dataframe\n",
    "\n",
    "Now we can play with the dataframe as we wish."
   ]
  },
  {
   "cell_type": "code",
   "execution_count": 8,
   "metadata": {},
   "outputs": [
    {
     "data": {
      "text/plain": [
       "{b'Run': array([300000., 300000., 300000., ..., 300000., 300000., 300000.],\n",
       "       dtype=float32),\n",
       " b'Event': array([16000310., 16000256., 16002559., ..., 16003589., 16000303.,\n",
       "        16002703.], dtype=float32),\n",
       " b'JetPt': <JaggedArray [[257.3164367675781 253.13232421875 47.16945266723633] [386.493408203125 339.7240295410156] [205.48191833496094 145.9190216064453] ... [270.0296936035156 235.0580596923828] [295.9820861816406 239.0131378173828 137.13156127929688 58.33217239379883 42.6482048034668] [373.2308654785156 197.72581481933594 176.5972900390625 153.0657958984375]] at 0x024ec9523f98>,\n",
       " b'JetEta': <JaggedArray [[1.4384255409240723 0.6565013527870178 -2.6482956409454346] [2.0734965801239014 -0.08200427144765854] [-1.1604390144348145 1.1042412519454956] ... [-0.8287546038627625 -1.3372952938079834] [0.04100418463349342 0.5062792897224426 0.2755782902240753 -2.539562463760376 0.1658107340335846] [1.0028400421142578 -0.9127013087272644 -0.1290564388036728 1.9479498863220215]] at 0x024ec9523fd0>,\n",
       " b'TrackPt': <JaggedArray [[3.644212245941162 4.295003890991211 2.404663324356079 ... 2.3138785362243652 17.433984756469727 14.93887996673584] [55.368350982666016 45.84477996826172 13.871657371520996 ... 2.772343397140503 2.0482237339019775 2.0197041034698486] [5.105844020843506 13.331472396850586 1.6599575281143188 ... 3.3972978591918945 2.191790819168091 4.692397594451904] ... [1.2227035760879517 1.4323800802230835 1.055785059928894 ... 4.3658952713012695 2.041688919067383 5.246799945831299] [2.965369701385498 1.3220267295837402 2.145740270614624 ... 2.3589978218078613 2.5860228538513184 2.0475783348083496] [1.8734263181686401 3.3796403408050537 1.602354645729065 ... 2.006420850753784 1.6178420782089233 3.125734806060791]] at 0x024ec9523f60>}"
      ]
     },
     "execution_count": 8,
     "metadata": {},
     "output_type": "execute_result"
    }
   ],
   "source": [
    "df"
   ]
  },
  {
   "cell_type": "code",
   "execution_count": 9,
   "metadata": {},
   "outputs": [
    {
     "name": "stdout",
     "output_type": "stream",
     "text": [
      "Wall time: 213 ms\n"
     ]
    }
   ],
   "source": [
    "%%time\n",
    "import matplotlib.pyplot as plt"
   ]
  },
  {
   "cell_type": "code",
   "execution_count": 10,
   "metadata": {},
   "outputs": [
    {
     "data": {
      "image/png": "[encoded data removed]",
      "text/plain": [
       "<Figure size 432x288 with 1 Axes>"
      ]
     },
     "metadata": {
      "needs_background": "light"
     },
     "output_type": "display_data"
    }
   ],
   "source": [
    "_ = plt.hist(df[b'JetPt'].content, bins=100)\n",
    "_ = plt.xlabel(\"Jet $p_T$ [GeV]\")"
   ]
  },
  {
   "cell_type": "markdown",
   "metadata": {},
   "source": [
    "Note the cut off at 40 GeV on the low end."
   ]
  },
  {
   "cell_type": "code",
   "execution_count": 11,
   "metadata": {},
   "outputs": [
    {
     "name": "stdout",
     "output_type": "stream",
     "text": [
      "Wall time: 93 ms\n"
     ]
    },
    {
     "data": {
      "image/png": "[encoded data removed]",
      "text/plain": [
       "<Figure size 432x288 with 1 Axes>"
      ]
     },
     "metadata": {
      "needs_background": "light"
     },
     "output_type": "display_data"
    }
   ],
   "source": [
    "%%time\n",
    "_ = plt.scatter(df[b'JetPt'].content, df[b'JetEta'].content)"
   ]
  },
  {
   "cell_type": "markdown",
   "metadata": {},
   "source": [
    "As expected we can see the higher pt jets tend to be more central\n",
    "\n",
    "We can also look at the number of tracks as a function of jet $p_T$."
   ]
  },
  {
   "cell_type": "code",
   "execution_count": 12,
   "metadata": {},
   "outputs": [
    {
     "name": "stdout",
     "output_type": "stream",
     "text": [
      "Wall time: 122 ms\n"
     ]
    },
    {
     "data": {
      "image/png": "[encoded data removed]",
      "text/plain": [
       "<Figure size 432x288 with 1 Axes>"
      ]
     },
     "metadata": {
      "needs_background": "light"
     },
     "output_type": "display_data"
    }
   ],
   "source": [
    "%%time\n",
    "_ = plt.hist(df[b'TrackPt'].content, bins=100)\n",
    "_ = plt.xlabel('Track $p_T$ [GeV]')"
   ]
  },
  {
   "cell_type": "markdown",
   "metadata": {},
   "source": [
    "## Limitations\n",
    "\n",
    "This is demo code. There are a number of limitations:\n",
    "\n",
    "- Only Jets, Tracks, and EventInfo is understood (easy to add new C++ collections or objects). You can alter the name of the collection you want to access.\n",
    "- Basic operations are possible, like jet.pt()/1000.0. But no effor had been made to have a complete set of operations yet.\n",
    "- Only a single query at a time is possible. However you can create multiple columns in the dataframe (with jet pt and eta, for example).\n",
    "- Obviously, tuples quickly become unweildy. Named tuples would be the obvious thing to use - and there is no techincal reason not to use them. Eventually."
   ]
  },
  {
   "cell_type": "code",
   "execution_count": null,
   "metadata": {},
   "outputs": [],
   "source": []
  }
 ],
 "metadata": {
  "kernelspec": {
   "display_name": "Python 3",
   "language": "python",
   "name": "python3"
  },
  "language_info": {
   "codemirror_mode": {
    "name": "ipython",
    "version": 3
   },
   "file_extension": ".py",
   "mimetype": "text/x-python",
   "name": "python",
   "nbconvert_exporter": "python",
   "pygments_lexer": "ipython3",
   "version": "3.7.1"
  }
 },
 "nbformat": 4,
 "nbformat_minor": 2
}
